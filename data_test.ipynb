{
 "cells": [
  {
   "cell_type": "markdown",
   "id": "e6424db1-3fe0-4386-870f-0b0bf3a49d1e",
   "metadata": {},
   "source": [
    "# Load the dataframe"
   ]
  },
  {
   "cell_type": "code",
   "execution_count": 1,
   "id": "00cbb199-298c-46cf-a79f-e805858f6a12",
   "metadata": {},
   "outputs": [],
   "source": [
    "import pandas as pd"
   ]
  },
  {
   "cell_type": "code",
   "execution_count": 2,
   "id": "01c98826-6e47-4713-8baa-4de9b5330d5e",
   "metadata": {},
   "outputs": [],
   "source": [
    "df = pd.read_csv(\"data/TG_STAID000087.txt\", skiprows=20, parse_dates=[\"    DATE\"])"
   ]
  },
  {
   "cell_type": "code",
   "execution_count": 3,
   "id": "93554346-f3d1-43d8-a86d-7c1dd7df1c0b",
   "metadata": {},
   "outputs": [
    {
     "data": {
      "text/html": [
       "<div>\n",
       "<style scoped>\n",
       "    .dataframe tbody tr th:only-of-type {\n",
       "        vertical-align: middle;\n",
       "    }\n",
       "\n",
       "    .dataframe tbody tr th {\n",
       "        vertical-align: top;\n",
       "    }\n",
       "\n",
       "    .dataframe thead th {\n",
       "        text-align: right;\n",
       "    }\n",
       "</style>\n",
       "<table border=\"1\" class=\"dataframe\">\n",
       "  <thead>\n",
       "    <tr style=\"text-align: right;\">\n",
       "      <th></th>\n",
       "      <th>STAID</th>\n",
       "      <th>SOUID</th>\n",
       "      <th>DATE</th>\n",
       "      <th>TG</th>\n",
       "      <th>Q_TG</th>\n",
       "    </tr>\n",
       "  </thead>\n",
       "  <tbody>\n",
       "    <tr>\n",
       "      <th>0</th>\n",
       "      <td>87</td>\n",
       "      <td>337</td>\n",
       "      <td>1948-01-01</td>\n",
       "      <td>-9999</td>\n",
       "      <td>9</td>\n",
       "    </tr>\n",
       "    <tr>\n",
       "      <th>1</th>\n",
       "      <td>87</td>\n",
       "      <td>337</td>\n",
       "      <td>1948-01-02</td>\n",
       "      <td>-9999</td>\n",
       "      <td>9</td>\n",
       "    </tr>\n",
       "    <tr>\n",
       "      <th>2</th>\n",
       "      <td>87</td>\n",
       "      <td>337</td>\n",
       "      <td>1948-01-03</td>\n",
       "      <td>-9999</td>\n",
       "      <td>9</td>\n",
       "    </tr>\n",
       "    <tr>\n",
       "      <th>3</th>\n",
       "      <td>87</td>\n",
       "      <td>337</td>\n",
       "      <td>1948-01-04</td>\n",
       "      <td>-9999</td>\n",
       "      <td>9</td>\n",
       "    </tr>\n",
       "    <tr>\n",
       "      <th>4</th>\n",
       "      <td>87</td>\n",
       "      <td>337</td>\n",
       "      <td>1948-01-05</td>\n",
       "      <td>-9999</td>\n",
       "      <td>9</td>\n",
       "    </tr>\n",
       "    <tr>\n",
       "      <th>...</th>\n",
       "      <td>...</td>\n",
       "      <td>...</td>\n",
       "      <td>...</td>\n",
       "      <td>...</td>\n",
       "      <td>...</td>\n",
       "    </tr>\n",
       "    <tr>\n",
       "      <th>27175</th>\n",
       "      <td>87</td>\n",
       "      <td>927612</td>\n",
       "      <td>2022-05-27</td>\n",
       "      <td>118</td>\n",
       "      <td>0</td>\n",
       "    </tr>\n",
       "    <tr>\n",
       "      <th>27176</th>\n",
       "      <td>87</td>\n",
       "      <td>927612</td>\n",
       "      <td>2022-05-28</td>\n",
       "      <td>100</td>\n",
       "      <td>0</td>\n",
       "    </tr>\n",
       "    <tr>\n",
       "      <th>27177</th>\n",
       "      <td>87</td>\n",
       "      <td>927612</td>\n",
       "      <td>2022-05-29</td>\n",
       "      <td>109</td>\n",
       "      <td>0</td>\n",
       "    </tr>\n",
       "    <tr>\n",
       "      <th>27178</th>\n",
       "      <td>87</td>\n",
       "      <td>927612</td>\n",
       "      <td>2022-05-30</td>\n",
       "      <td>129</td>\n",
       "      <td>0</td>\n",
       "    </tr>\n",
       "    <tr>\n",
       "      <th>27179</th>\n",
       "      <td>87</td>\n",
       "      <td>927612</td>\n",
       "      <td>2022-05-31</td>\n",
       "      <td>147</td>\n",
       "      <td>0</td>\n",
       "    </tr>\n",
       "  </tbody>\n",
       "</table>\n",
       "<p>27180 rows × 5 columns</p>\n",
       "</div>"
      ],
      "text/plain": [
       "       STAID   SOUID       DATE     TG   Q_TG\n",
       "0         87     337 1948-01-01  -9999      9\n",
       "1         87     337 1948-01-02  -9999      9\n",
       "2         87     337 1948-01-03  -9999      9\n",
       "3         87     337 1948-01-04  -9999      9\n",
       "4         87     337 1948-01-05  -9999      9\n",
       "...      ...     ...        ...    ...    ...\n",
       "27175     87  927612 2022-05-27    118      0\n",
       "27176     87  927612 2022-05-28    100      0\n",
       "27177     87  927612 2022-05-29    109      0\n",
       "27178     87  927612 2022-05-30    129      0\n",
       "27179     87  927612 2022-05-31    147      0\n",
       "\n",
       "[27180 rows x 5 columns]"
      ]
     },
     "execution_count": 3,
     "metadata": {},
     "output_type": "execute_result"
    }
   ],
   "source": [
    "df"
   ]
  },
  {
   "cell_type": "markdown",
   "id": "a12c6af8-2e02-4050-8853-93210c500d5f",
   "metadata": {
    "tags": []
   },
   "source": [
    "## Show some certain rows"
   ]
  },
  {
   "cell_type": "code",
   "execution_count": 4,
   "id": "1ea900f8-438c-444e-a262-eb0a12bdf170",
   "metadata": {},
   "outputs": [
    {
     "data": {
      "text/html": [
       "<div>\n",
       "<style scoped>\n",
       "    .dataframe tbody tr th:only-of-type {\n",
       "        vertical-align: middle;\n",
       "    }\n",
       "\n",
       "    .dataframe tbody tr th {\n",
       "        vertical-align: top;\n",
       "    }\n",
       "\n",
       "    .dataframe thead th {\n",
       "        text-align: right;\n",
       "    }\n",
       "</style>\n",
       "<table border=\"1\" class=\"dataframe\">\n",
       "  <thead>\n",
       "    <tr style=\"text-align: right;\">\n",
       "      <th></th>\n",
       "      <th>STAID</th>\n",
       "      <th>SOUID</th>\n",
       "      <th>DATE</th>\n",
       "      <th>TG</th>\n",
       "      <th>Q_TG</th>\n",
       "    </tr>\n",
       "  </thead>\n",
       "  <tbody>\n",
       "    <tr>\n",
       "      <th>27000</th>\n",
       "      <td>87</td>\n",
       "      <td>927612</td>\n",
       "      <td>2021-12-03</td>\n",
       "      <td>4</td>\n",
       "      <td>0</td>\n",
       "    </tr>\n",
       "    <tr>\n",
       "      <th>27001</th>\n",
       "      <td>87</td>\n",
       "      <td>927612</td>\n",
       "      <td>2021-12-04</td>\n",
       "      <td>-21</td>\n",
       "      <td>0</td>\n",
       "    </tr>\n",
       "    <tr>\n",
       "      <th>27002</th>\n",
       "      <td>87</td>\n",
       "      <td>927612</td>\n",
       "      <td>2021-12-05</td>\n",
       "      <td>-31</td>\n",
       "      <td>0</td>\n",
       "    </tr>\n",
       "    <tr>\n",
       "      <th>27003</th>\n",
       "      <td>87</td>\n",
       "      <td>927612</td>\n",
       "      <td>2021-12-06</td>\n",
       "      <td>-48</td>\n",
       "      <td>0</td>\n",
       "    </tr>\n",
       "    <tr>\n",
       "      <th>27004</th>\n",
       "      <td>87</td>\n",
       "      <td>927612</td>\n",
       "      <td>2021-12-07</td>\n",
       "      <td>-17</td>\n",
       "      <td>0</td>\n",
       "    </tr>\n",
       "    <tr>\n",
       "      <th>27005</th>\n",
       "      <td>87</td>\n",
       "      <td>927612</td>\n",
       "      <td>2021-12-08</td>\n",
       "      <td>-59</td>\n",
       "      <td>0</td>\n",
       "    </tr>\n",
       "    <tr>\n",
       "      <th>27006</th>\n",
       "      <td>87</td>\n",
       "      <td>927612</td>\n",
       "      <td>2021-12-09</td>\n",
       "      <td>-90</td>\n",
       "      <td>0</td>\n",
       "    </tr>\n",
       "    <tr>\n",
       "      <th>27007</th>\n",
       "      <td>87</td>\n",
       "      <td>927612</td>\n",
       "      <td>2021-12-10</td>\n",
       "      <td>-134</td>\n",
       "      <td>0</td>\n",
       "    </tr>\n",
       "    <tr>\n",
       "      <th>27008</th>\n",
       "      <td>87</td>\n",
       "      <td>927612</td>\n",
       "      <td>2021-12-11</td>\n",
       "      <td>-147</td>\n",
       "      <td>0</td>\n",
       "    </tr>\n",
       "    <tr>\n",
       "      <th>27009</th>\n",
       "      <td>87</td>\n",
       "      <td>927612</td>\n",
       "      <td>2021-12-12</td>\n",
       "      <td>-84</td>\n",
       "      <td>0</td>\n",
       "    </tr>\n",
       "  </tbody>\n",
       "</table>\n",
       "</div>"
      ],
      "text/plain": [
       "       STAID   SOUID       DATE     TG   Q_TG\n",
       "27000     87  927612 2021-12-03      4      0\n",
       "27001     87  927612 2021-12-04    -21      0\n",
       "27002     87  927612 2021-12-05    -31      0\n",
       "27003     87  927612 2021-12-06    -48      0\n",
       "27004     87  927612 2021-12-07    -17      0\n",
       "27005     87  927612 2021-12-08    -59      0\n",
       "27006     87  927612 2021-12-09    -90      0\n",
       "27007     87  927612 2021-12-10   -134      0\n",
       "27008     87  927612 2021-12-11   -147      0\n",
       "27009     87  927612 2021-12-12    -84      0"
      ]
     },
     "execution_count": 4,
     "metadata": {},
     "output_type": "execute_result"
    }
   ],
   "source": [
    "df[27000:27010]"
   ]
  },
  {
   "cell_type": "markdown",
   "id": "df7d24f8-688c-4811-86d8-3bffa5a4501e",
   "metadata": {},
   "source": [
    "## Show some certain columns"
   ]
  },
  {
   "cell_type": "code",
   "execution_count": 5,
   "id": "46d48e98-6cab-4280-94f9-4dcbf4102f41",
   "metadata": {},
   "outputs": [
    {
     "data": {
      "text/plain": [
       "Index(['STAID', ' SOUID', '    DATE', '   TG', ' Q_TG'], dtype='object')"
      ]
     },
     "execution_count": 5,
     "metadata": {},
     "output_type": "execute_result"
    }
   ],
   "source": [
    "df.columns"
   ]
  },
  {
   "cell_type": "code",
   "execution_count": 6,
   "id": "af903baa-5fa8-4591-9dcf-5232999477f5",
   "metadata": {},
   "outputs": [
    {
     "data": {
      "text/html": [
       "<div>\n",
       "<style scoped>\n",
       "    .dataframe tbody tr th:only-of-type {\n",
       "        vertical-align: middle;\n",
       "    }\n",
       "\n",
       "    .dataframe tbody tr th {\n",
       "        vertical-align: top;\n",
       "    }\n",
       "\n",
       "    .dataframe thead th {\n",
       "        text-align: right;\n",
       "    }\n",
       "</style>\n",
       "<table border=\"1\" class=\"dataframe\">\n",
       "  <thead>\n",
       "    <tr style=\"text-align: right;\">\n",
       "      <th></th>\n",
       "      <th>DATE</th>\n",
       "      <th>TG</th>\n",
       "    </tr>\n",
       "  </thead>\n",
       "  <tbody>\n",
       "    <tr>\n",
       "      <th>0</th>\n",
       "      <td>1948-01-01</td>\n",
       "      <td>-9999</td>\n",
       "    </tr>\n",
       "    <tr>\n",
       "      <th>1</th>\n",
       "      <td>1948-01-02</td>\n",
       "      <td>-9999</td>\n",
       "    </tr>\n",
       "    <tr>\n",
       "      <th>2</th>\n",
       "      <td>1948-01-03</td>\n",
       "      <td>-9999</td>\n",
       "    </tr>\n",
       "    <tr>\n",
       "      <th>3</th>\n",
       "      <td>1948-01-04</td>\n",
       "      <td>-9999</td>\n",
       "    </tr>\n",
       "    <tr>\n",
       "      <th>4</th>\n",
       "      <td>1948-01-05</td>\n",
       "      <td>-9999</td>\n",
       "    </tr>\n",
       "    <tr>\n",
       "      <th>...</th>\n",
       "      <td>...</td>\n",
       "      <td>...</td>\n",
       "    </tr>\n",
       "    <tr>\n",
       "      <th>27175</th>\n",
       "      <td>2022-05-27</td>\n",
       "      <td>118</td>\n",
       "    </tr>\n",
       "    <tr>\n",
       "      <th>27176</th>\n",
       "      <td>2022-05-28</td>\n",
       "      <td>100</td>\n",
       "    </tr>\n",
       "    <tr>\n",
       "      <th>27177</th>\n",
       "      <td>2022-05-29</td>\n",
       "      <td>109</td>\n",
       "    </tr>\n",
       "    <tr>\n",
       "      <th>27178</th>\n",
       "      <td>2022-05-30</td>\n",
       "      <td>129</td>\n",
       "    </tr>\n",
       "    <tr>\n",
       "      <th>27179</th>\n",
       "      <td>2022-05-31</td>\n",
       "      <td>147</td>\n",
       "    </tr>\n",
       "  </tbody>\n",
       "</table>\n",
       "<p>27180 rows × 2 columns</p>\n",
       "</div>"
      ],
      "text/plain": [
       "            DATE     TG\n",
       "0     1948-01-01  -9999\n",
       "1     1948-01-02  -9999\n",
       "2     1948-01-03  -9999\n",
       "3     1948-01-04  -9999\n",
       "4     1948-01-05  -9999\n",
       "...          ...    ...\n",
       "27175 2022-05-27    118\n",
       "27176 2022-05-28    100\n",
       "27177 2022-05-29    109\n",
       "27178 2022-05-30    129\n",
       "27179 2022-05-31    147\n",
       "\n",
       "[27180 rows x 2 columns]"
      ]
     },
     "execution_count": 6,
     "metadata": {},
     "output_type": "execute_result"
    }
   ],
   "source": [
    "df[['    DATE','   TG']]"
   ]
  },
  {
   "cell_type": "markdown",
   "id": "c46b1c25-9110-4bfe-9127-dcac68e245d6",
   "metadata": {},
   "source": [
    "## Stats and filtering"
   ]
  },
  {
   "cell_type": "code",
   "execution_count": 7,
   "id": "9eb423db-cb42-4b6d-bff7-e18e0e999b47",
   "metadata": {},
   "outputs": [
    {
     "data": {
      "text/plain": [
       "5.538881693372312"
      ]
     },
     "execution_count": 7,
     "metadata": {},
     "output_type": "execute_result"
    }
   ],
   "source": [
    "df.loc[df['   TG'] != -9999]['   TG'].mean() / 10"
   ]
  },
  {
   "cell_type": "code",
   "execution_count": 8,
   "id": "a0ea6230-6ac8-4d44-af1d-c291aad2b6e9",
   "metadata": {},
   "outputs": [
    {
     "data": {
      "text/plain": [
       "30.8"
      ]
     },
     "execution_count": 8,
     "metadata": {},
     "output_type": "execute_result"
    }
   ],
   "source": [
    "df.loc[df['   TG'] != -9999]['   TG'].max() / 10"
   ]
  },
  {
   "cell_type": "code",
   "execution_count": 9,
   "id": "17e4bbe7-b97f-4841-a25e-c0a9ea4cfac3",
   "metadata": {},
   "outputs": [
    {
     "data": {
      "text/plain": [
       "-35.0"
      ]
     },
     "execution_count": 9,
     "metadata": {},
     "output_type": "execute_result"
    }
   ],
   "source": [
    "df.loc[df['   TG'] != -9999]['   TG'].min() / 10"
   ]
  },
  {
   "cell_type": "code",
   "execution_count": 10,
   "id": "aa7f4ce4-d4b4-446a-9fb4-e2a9c9ac7f4d",
   "metadata": {},
   "outputs": [
    {
     "data": {
      "text/plain": [
       "<AxesSubplot: >"
      ]
     },
     "execution_count": 10,
     "metadata": {},
     "output_type": "execute_result"
    },
    {
     "data": {
      "image/png": "[encoded data removed]",
      "text/plain": [
       "<Figure size 640x480 with 1 Axes>"
      ]
     },
     "metadata": {},
     "output_type": "display_data"
    }
   ],
   "source": [
    "df.loc[df['   TG'] != -9999]['   TG'].hist()"
   ]
  },
  {
   "cell_type": "markdown",
   "id": "d07b7083-1149-468d-a631-7c965db1ed5e",
   "metadata": {},
   "source": [
    "## Get certain cells"
   ]
  },
  {
   "cell_type": "code",
   "execution_count": 11,
   "id": "276c62bb-d634-4e0a-8faa-b529edc852dc",
   "metadata": {},
   "outputs": [
    {
     "data": {
      "text/plain": [
       "2.3"
      ]
     },
     "execution_count": 11,
     "metadata": {},
     "output_type": "execute_result"
    }
   ],
   "source": [
    "df.loc[df['    DATE']==\"2002-10-03\"]['   TG'].squeeze() / 10"
   ]
  },
  {
   "cell_type": "code",
   "execution_count": 12,
   "id": "cb1dee1d-7728-44bb-ab8e-01facdc90883",
   "metadata": {},
   "outputs": [
    {
     "data": {
      "text/plain": [
       "Timestamp('2010-07-28 00:00:00')"
      ]
     },
     "execution_count": 12,
     "metadata": {},
     "output_type": "execute_result"
    }
   ],
   "source": [
    "df.loc[df['   TG'] == df['   TG'].max()]['    DATE'].squeeze()"
   ]
  },
  {
   "cell_type": "markdown",
   "id": "15d861b2-dec0-46e7-8d9c-8dce28fcc949",
   "metadata": {},
   "source": [
    "## Calculate a new column out of an existing one"
   ]
  },
  {
   "cell_type": "code",
   "execution_count": 13,
   "id": "a8525a12-88e7-45c7-b8f5-bd5704f4ca96",
   "metadata": {},
   "outputs": [],
   "source": [
    "import numpy as np\n",
    "df[\"TG0\"] = df['   TG'].mask(df['   TG']==-9999,np.nan)"
   ]
  },
  {
   "cell_type": "code",
   "execution_count": 14,
   "id": "745d95b7-11d8-4f8b-9262-8e2bd0f0fa74",
   "metadata": {},
   "outputs": [
    {
     "data": {
      "text/html": [
       "<div>\n",
       "<style scoped>\n",
       "    .dataframe tbody tr th:only-of-type {\n",
       "        vertical-align: middle;\n",
       "    }\n",
       "\n",
       "    .dataframe tbody tr th {\n",
       "        vertical-align: top;\n",
       "    }\n",
       "\n",
       "    .dataframe thead th {\n",
       "        text-align: right;\n",
       "    }\n",
       "</style>\n",
       "<table border=\"1\" class=\"dataframe\">\n",
       "  <thead>\n",
       "    <tr style=\"text-align: right;\">\n",
       "      <th></th>\n",
       "      <th>STAID</th>\n",
       "      <th>SOUID</th>\n",
       "      <th>DATE</th>\n",
       "      <th>TG</th>\n",
       "      <th>Q_TG</th>\n",
       "      <th>TG0</th>\n",
       "      <th>TG</th>\n",
       "    </tr>\n",
       "  </thead>\n",
       "  <tbody>\n",
       "    <tr>\n",
       "      <th>0</th>\n",
       "      <td>87</td>\n",
       "      <td>337</td>\n",
       "      <td>1948-01-01</td>\n",
       "      <td>-9999</td>\n",
       "      <td>9</td>\n",
       "      <td>NaN</td>\n",
       "      <td>NaN</td>\n",
       "    </tr>\n",
       "    <tr>\n",
       "      <th>1</th>\n",
       "      <td>87</td>\n",
       "      <td>337</td>\n",
       "      <td>1948-01-02</td>\n",
       "      <td>-9999</td>\n",
       "      <td>9</td>\n",
       "      <td>NaN</td>\n",
       "      <td>NaN</td>\n",
       "    </tr>\n",
       "    <tr>\n",
       "      <th>2</th>\n",
       "      <td>87</td>\n",
       "      <td>337</td>\n",
       "      <td>1948-01-03</td>\n",
       "      <td>-9999</td>\n",
       "      <td>9</td>\n",
       "      <td>NaN</td>\n",
       "      <td>NaN</td>\n",
       "    </tr>\n",
       "    <tr>\n",
       "      <th>3</th>\n",
       "      <td>87</td>\n",
       "      <td>337</td>\n",
       "      <td>1948-01-04</td>\n",
       "      <td>-9999</td>\n",
       "      <td>9</td>\n",
       "      <td>NaN</td>\n",
       "      <td>NaN</td>\n",
       "    </tr>\n",
       "    <tr>\n",
       "      <th>4</th>\n",
       "      <td>87</td>\n",
       "      <td>337</td>\n",
       "      <td>1948-01-05</td>\n",
       "      <td>-9999</td>\n",
       "      <td>9</td>\n",
       "      <td>NaN</td>\n",
       "      <td>NaN</td>\n",
       "    </tr>\n",
       "    <tr>\n",
       "      <th>...</th>\n",
       "      <td>...</td>\n",
       "      <td>...</td>\n",
       "      <td>...</td>\n",
       "      <td>...</td>\n",
       "      <td>...</td>\n",
       "      <td>...</td>\n",
       "      <td>...</td>\n",
       "    </tr>\n",
       "    <tr>\n",
       "      <th>27175</th>\n",
       "      <td>87</td>\n",
       "      <td>927612</td>\n",
       "      <td>2022-05-27</td>\n",
       "      <td>118</td>\n",
       "      <td>0</td>\n",
       "      <td>118.0</td>\n",
       "      <td>11.8</td>\n",
       "    </tr>\n",
       "    <tr>\n",
       "      <th>27176</th>\n",
       "      <td>87</td>\n",
       "      <td>927612</td>\n",
       "      <td>2022-05-28</td>\n",
       "      <td>100</td>\n",
       "      <td>0</td>\n",
       "      <td>100.0</td>\n",
       "      <td>10.0</td>\n",
       "    </tr>\n",
       "    <tr>\n",
       "      <th>27177</th>\n",
       "      <td>87</td>\n",
       "      <td>927612</td>\n",
       "      <td>2022-05-29</td>\n",
       "      <td>109</td>\n",
       "      <td>0</td>\n",
       "      <td>109.0</td>\n",
       "      <td>10.9</td>\n",
       "    </tr>\n",
       "    <tr>\n",
       "      <th>27178</th>\n",
       "      <td>87</td>\n",
       "      <td>927612</td>\n",
       "      <td>2022-05-30</td>\n",
       "      <td>129</td>\n",
       "      <td>0</td>\n",
       "      <td>129.0</td>\n",
       "      <td>12.9</td>\n",
       "    </tr>\n",
       "    <tr>\n",
       "      <th>27179</th>\n",
       "      <td>87</td>\n",
       "      <td>927612</td>\n",
       "      <td>2022-05-31</td>\n",
       "      <td>147</td>\n",
       "      <td>0</td>\n",
       "      <td>147.0</td>\n",
       "      <td>14.7</td>\n",
       "    </tr>\n",
       "  </tbody>\n",
       "</table>\n",
       "<p>27180 rows × 7 columns</p>\n",
       "</div>"
      ],
      "text/plain": [
       "       STAID   SOUID       DATE     TG   Q_TG    TG0    TG\n",
       "0         87     337 1948-01-01  -9999      9    NaN   NaN\n",
       "1         87     337 1948-01-02  -9999      9    NaN   NaN\n",
       "2         87     337 1948-01-03  -9999      9    NaN   NaN\n",
       "3         87     337 1948-01-04  -9999      9    NaN   NaN\n",
       "4         87     337 1948-01-05  -9999      9    NaN   NaN\n",
       "...      ...     ...        ...    ...    ...    ...   ...\n",
       "27175     87  927612 2022-05-27    118      0  118.0  11.8\n",
       "27176     87  927612 2022-05-28    100      0  100.0  10.0\n",
       "27177     87  927612 2022-05-29    109      0  109.0  10.9\n",
       "27178     87  927612 2022-05-30    129      0  129.0  12.9\n",
       "27179     87  927612 2022-05-31    147      0  147.0  14.7\n",
       "\n",
       "[27180 rows x 7 columns]"
      ]
     },
     "execution_count": 14,
     "metadata": {},
     "output_type": "execute_result"
    }
   ],
   "source": [
    "df[\"TG\"] = df['TG0']/10\n",
    "df"
   ]
  },
  {
   "cell_type": "markdown",
   "id": "01a52174-a08d-4a4c-9369-54165b48a236",
   "metadata": {},
   "source": [
    "## Plotting"
   ]
  },
  {
   "cell_type": "code",
   "execution_count": 15,
   "id": "8ca94d2e-208a-4815-81fb-6b8832e32ebf",
   "metadata": {},
   "outputs": [
    {
     "data": {
      "text/plain": [
       "<AxesSubplot: >"
      ]
     },
     "execution_count": 15,
     "metadata": {},
     "output_type": "execute_result"
    },
    {
     "data": {
      "image/png": "[encoded data removed]",
      "text/plain": [
       "<Figure size 640x480 with 1 Axes>"
      ]
     },
     "metadata": {},
     "output_type": "display_data"
    }
   ],
   "source": [
    "df[\"TG\"].hist()"
   ]
  },
  {
   "cell_type": "code",
   "execution_count": 16,
   "id": "6a747067-dcc9-418a-be2c-34933198822c",
   "metadata": {},
   "outputs": [
    {
     "data": {
      "text/plain": [
       "<AxesSubplot: xlabel='    DATE'>"
      ]
     },
     "execution_count": 16,
     "metadata": {},
     "output_type": "execute_result"
    },
    {
     "data": {
      "image/png": "[encoded data removed]",
      "text/plain": [
       "<Figure size 1500x300 with 1 Axes>"
      ]
     },
     "metadata": {},
     "output_type": "display_data"
    }
   ],
   "source": [
    "df.plot(x='    DATE', y=\"TG\", figsize=(15, 3))"
   ]
  },
  {
   "cell_type": "markdown",
   "id": "a35f13b2-3aae-4f99-82b7-9012e4817b01",
   "metadata": {},
   "source": [
    "## Test stations file"
   ]
  },
  {
   "cell_type": "code",
   "execution_count": 61,
   "id": "355daed3-6ea6-4daf-a942-c65a9412bf93",
   "metadata": {},
   "outputs": [
    {
     "data": {
      "text/html": [
       "<div>\n",
       "<style scoped>\n",
       "    .dataframe tbody tr th:only-of-type {\n",
       "        vertical-align: middle;\n",
       "    }\n",
       "\n",
       "    .dataframe tbody tr th {\n",
       "        vertical-align: top;\n",
       "    }\n",
       "\n",
       "    .dataframe thead th {\n",
       "        text-align: right;\n",
       "    }\n",
       "</style>\n",
       "<table border=\"1\" class=\"dataframe\">\n",
       "  <thead>\n",
       "    <tr style=\"text-align: right;\">\n",
       "      <th></th>\n",
       "      <th>STAID</th>\n",
       "      <th>STANAME</th>\n",
       "      <th>CN</th>\n",
       "      <th>LAT</th>\n",
       "      <th>LON</th>\n",
       "      <th>HGHT</th>\n",
       "    </tr>\n",
       "  </thead>\n",
       "  <tbody>\n",
       "    <tr>\n",
       "      <th>30</th>\n",
       "      <td>36</td>\n",
       "      <td>PERPIGNAN</td>\n",
       "      <td>FR</td>\n",
       "      <td>+42:44:13</td>\n",
       "      <td>+002:52:22</td>\n",
       "      <td>42</td>\n",
       "    </tr>\n",
       "    <tr>\n",
       "      <th>31</th>\n",
       "      <td>37</td>\n",
       "      <td>LYON - ST EXUPERY</td>\n",
       "      <td>FR</td>\n",
       "      <td>+45:43:35</td>\n",
       "      <td>+005:04:40</td>\n",
       "      <td>235</td>\n",
       "    </tr>\n",
       "    <tr>\n",
       "      <th>32</th>\n",
       "      <td>39</td>\n",
       "      <td>MARIGNANE</td>\n",
       "      <td>FR</td>\n",
       "      <td>+43:26:16</td>\n",
       "      <td>+005:12:57</td>\n",
       "      <td>9</td>\n",
       "    </tr>\n",
       "    <tr>\n",
       "      <th>33</th>\n",
       "      <td>40</td>\n",
       "      <td>BAMBERG</td>\n",
       "      <td>DE</td>\n",
       "      <td>+49:52:31</td>\n",
       "      <td>+010:55:18</td>\n",
       "      <td>240</td>\n",
       "    </tr>\n",
       "    <tr>\n",
       "      <th>34</th>\n",
       "      <td>41</td>\n",
       "      <td>BERLIN-DAHLEM</td>\n",
       "      <td>DE</td>\n",
       "      <td>+52:27:50</td>\n",
       "      <td>+013:18:06</td>\n",
       "      <td>51</td>\n",
       "    </tr>\n",
       "    <tr>\n",
       "      <th>35</th>\n",
       "      <td>42</td>\n",
       "      <td>BREMEN</td>\n",
       "      <td>DE</td>\n",
       "      <td>+53:02:47</td>\n",
       "      <td>+008:47:57</td>\n",
       "      <td>4</td>\n",
       "    </tr>\n",
       "    <tr>\n",
       "      <th>36</th>\n",
       "      <td>43</td>\n",
       "      <td>DRESDEN WAHNSDORF</td>\n",
       "      <td>DE</td>\n",
       "      <td>+51:07:00</td>\n",
       "      <td>+013:40:59</td>\n",
       "      <td>246</td>\n",
       "    </tr>\n",
       "    <tr>\n",
       "      <th>37</th>\n",
       "      <td>44</td>\n",
       "      <td>FRANKFURT</td>\n",
       "      <td>DE</td>\n",
       "      <td>+50:02:47</td>\n",
       "      <td>+008:35:54</td>\n",
       "      <td>112</td>\n",
       "    </tr>\n",
       "    <tr>\n",
       "      <th>38</th>\n",
       "      <td>45</td>\n",
       "      <td>HALLE</td>\n",
       "      <td>DE</td>\n",
       "      <td>+51:30:52</td>\n",
       "      <td>+011:57:02</td>\n",
       "      <td>93</td>\n",
       "    </tr>\n",
       "    <tr>\n",
       "      <th>39</th>\n",
       "      <td>46</td>\n",
       "      <td>HAMBURG BERGEDORF</td>\n",
       "      <td>DE</td>\n",
       "      <td>+53:28:50</td>\n",
       "      <td>+010:14:34</td>\n",
       "      <td>35</td>\n",
       "    </tr>\n",
       "    <tr>\n",
       "      <th>40</th>\n",
       "      <td>47</td>\n",
       "      <td>HAMBURG FUHLSBUETTEL</td>\n",
       "      <td>DE</td>\n",
       "      <td>+53:38:06</td>\n",
       "      <td>+009:59:24</td>\n",
       "      <td>11</td>\n",
       "    </tr>\n",
       "    <tr>\n",
       "      <th>41</th>\n",
       "      <td>48</td>\n",
       "      <td>HOHENPEISSENBERG</td>\n",
       "      <td>DE</td>\n",
       "      <td>+47:48:06</td>\n",
       "      <td>+011:00:42</td>\n",
       "      <td>977</td>\n",
       "    </tr>\n",
       "    <tr>\n",
       "      <th>42</th>\n",
       "      <td>49</td>\n",
       "      <td>JENA STERNWARTE</td>\n",
       "      <td>DE</td>\n",
       "      <td>+50:55:36</td>\n",
       "      <td>+011:35:03</td>\n",
       "      <td>155</td>\n",
       "    </tr>\n",
       "    <tr>\n",
       "      <th>43</th>\n",
       "      <td>50</td>\n",
       "      <td>KAISERSLAUTERN</td>\n",
       "      <td>DE</td>\n",
       "      <td>+49:25:31</td>\n",
       "      <td>+007:44:12</td>\n",
       "      <td>285</td>\n",
       "    </tr>\n",
       "    <tr>\n",
       "      <th>44</th>\n",
       "      <td>51</td>\n",
       "      <td>KARLSRUHE</td>\n",
       "      <td>DE</td>\n",
       "      <td>+49:02:21</td>\n",
       "      <td>+008:21:54</td>\n",
       "      <td>112</td>\n",
       "    </tr>\n",
       "    <tr>\n",
       "      <th>45</th>\n",
       "      <td>52</td>\n",
       "      <td>MUENCHEN</td>\n",
       "      <td>DE</td>\n",
       "      <td>+48:09:51</td>\n",
       "      <td>+011:32:39</td>\n",
       "      <td>515</td>\n",
       "    </tr>\n",
       "    <tr>\n",
       "      <th>46</th>\n",
       "      <td>53</td>\n",
       "      <td>MUENSTER</td>\n",
       "      <td>DE</td>\n",
       "      <td>+51:57:02</td>\n",
       "      <td>+007:35:29</td>\n",
       "      <td>62</td>\n",
       "    </tr>\n",
       "    <tr>\n",
       "      <th>47</th>\n",
       "      <td>54</td>\n",
       "      <td>POTSDAM</td>\n",
       "      <td>DE</td>\n",
       "      <td>+52:23:00</td>\n",
       "      <td>+013:03:50</td>\n",
       "      <td>81</td>\n",
       "    </tr>\n",
       "    <tr>\n",
       "      <th>48</th>\n",
       "      <td>55</td>\n",
       "      <td>SCHWERIN</td>\n",
       "      <td>DE</td>\n",
       "      <td>+53:38:39</td>\n",
       "      <td>+011:23:18</td>\n",
       "      <td>59</td>\n",
       "    </tr>\n",
       "    <tr>\n",
       "      <th>49</th>\n",
       "      <td>58</td>\n",
       "      <td>ZUGSPITZE</td>\n",
       "      <td>DE</td>\n",
       "      <td>+47:25:19</td>\n",
       "      <td>+010:59:12</td>\n",
       "      <td>2964</td>\n",
       "    </tr>\n",
       "  </tbody>\n",
       "</table>\n",
       "</div>"
      ],
      "text/plain": [
       "    STAID  STANAME                                   CN        LAT  \\\n",
       "30     36  PERPIGNAN                                 FR  +42:44:13   \n",
       "31     37  LYON - ST EXUPERY                         FR  +45:43:35   \n",
       "32     39  MARIGNANE                                 FR  +43:26:16   \n",
       "33     40  BAMBERG                                   DE  +49:52:31   \n",
       "34     41  BERLIN-DAHLEM                             DE  +52:27:50   \n",
       "35     42  BREMEN                                    DE  +53:02:47   \n",
       "36     43  DRESDEN WAHNSDORF                         DE  +51:07:00   \n",
       "37     44  FRANKFURT                                 DE  +50:02:47   \n",
       "38     45  HALLE                                     DE  +51:30:52   \n",
       "39     46  HAMBURG BERGEDORF                         DE  +53:28:50   \n",
       "40     47  HAMBURG FUHLSBUETTEL                      DE  +53:38:06   \n",
       "41     48  HOHENPEISSENBERG                          DE  +47:48:06   \n",
       "42     49  JENA STERNWARTE                           DE  +50:55:36   \n",
       "43     50  KAISERSLAUTERN                            DE  +49:25:31   \n",
       "44     51  KARLSRUHE                                 DE  +49:02:21   \n",
       "45     52  MUENCHEN                                  DE  +48:09:51   \n",
       "46     53  MUENSTER                                  DE  +51:57:02   \n",
       "47     54  POTSDAM                                   DE  +52:23:00   \n",
       "48     55  SCHWERIN                                  DE  +53:38:39   \n",
       "49     58  ZUGSPITZE                                 DE  +47:25:19   \n",
       "\n",
       "           LON  HGHT  \n",
       "30  +002:52:22    42  \n",
       "31  +005:04:40   235  \n",
       "32  +005:12:57     9  \n",
       "33  +010:55:18   240  \n",
       "34  +013:18:06    51  \n",
       "35  +008:47:57     4  \n",
       "36  +013:40:59   246  \n",
       "37  +008:35:54   112  \n",
       "38  +011:57:02    93  \n",
       "39  +010:14:34    35  \n",
       "40  +009:59:24    11  \n",
       "41  +011:00:42   977  \n",
       "42  +011:35:03   155  \n",
       "43  +007:44:12   285  \n",
       "44  +008:21:54   112  \n",
       "45  +011:32:39   515  \n",
       "46  +007:35:29    62  \n",
       "47  +013:03:50    81  \n",
       "48  +011:23:18    59  \n",
       "49  +010:59:12  2964  "
      ]
     },
     "execution_count": 61,
     "metadata": {},
     "output_type": "execute_result"
    }
   ],
   "source": [
    "dfs = pd.read_csv(\"data/stations.txt\", skiprows=17)\n",
    "dfs[30:50]"
   ]
  },
  {
   "cell_type": "code",
   "execution_count": 68,
   "id": "257a58a7-3797-4c89-96bc-a7d7ac92c638",
   "metadata": {},
   "outputs": [
    {
     "data": {
      "text/plain": [
       "'MOSKVA VDNX                             '"
      ]
     },
     "execution_count": 68,
     "metadata": {},
     "output_type": "execute_result"
    }
   ],
   "source": [
    "data = dfs.loc[dfs[\"STAID\"] == 87]\n",
    "data\n",
    "data[\"STANAME                                 \"].item()"
   ]
  },
  {
   "cell_type": "code",
   "execution_count": 71,
   "id": "be063c04-848d-4d08-87c7-88d29de7ebd3",
   "metadata": {},
   "outputs": [
    {
     "data": {
      "text/plain": [
       "'MOSKVA VDNX                             '"
      ]
     },
     "execution_count": 71,
     "metadata": {},
     "output_type": "execute_result"
    }
   ],
   "source": [
    "dfs.loc[dfs[\"STAID\"] == 87][\"STANAME                                 \"].item()"
   ]
  }
 ],
 "metadata": {
  "kernelspec": {
   "display_name": "Python 3 (ipykernel)",
   "language": "python",
   "name": "python3"
  },
  "language_info": {
   "codemirror_mode": {
    "name": "ipython",
    "version": 3
   },
   "file_extension": ".py",
   "mimetype": "text/x-python",
   "name": "python",
   "nbconvert_exporter": "python",
   "pygments_lexer": "ipython3",
   "version": "3.11.1"
  }
 },
 "nbformat": 4,
 "nbformat_minor": 5
}
